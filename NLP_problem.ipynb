{
  "nbformat": 4,
  "nbformat_minor": 0,
  "metadata": {
    "colab": {
      "name": "Ejercicio_entrevista.ipynb",
      "provenance": [],
      "collapsed_sections": []
    },
    "kernelspec": {
      "name": "python3",
      "display_name": "Python 3"
    },
    "language_info": {
      "name": "python"
    }
  },
  "cells": [
    {
      "cell_type": "markdown",
      "metadata": {
        "id": "YdZSY2QnN7I6"
      },
      "source": [
        "## Extracción de palabras clave en noticias:\n",
        "\n",
        "Actualmente la Dirección de Comunicación interna presenta un reporte de las noticias más relevantes en los medios electrónicos (periódicos, revistas, sitios web oficiales de instituciones públicas, entre otros), sin embargo, está utilizando mucho tiempo en la lectura de las noticias y busca eficientizar su proceso. Como primer paso, busca conocer (sin necesidad de leer cada una de las notas periodísticas) cuales de estas comentan al respecto de una misma situación (cuál es el tema de la noticia).\n",
        "\n",
        "En el archivo de Excel (Ejercicio_notas_periodísticas.xlsx), en la hoja BD, se presenta una pequeña base de datos sobre noticias de diferentes medios electrónicos, ¿cómo darías solución al problema de la Dirección de Comunicación?.\n",
        "\n",
        "Por ejemplo: En las primeras once noticias se comenta al respecto de \"La incapacidad de Pemex de producir Diésel de Ultra Bajo Azufre\". En este caso, la Dirección de Comunicación debería recibir estas mismas once noticias indicando en un nuevo campo el tema en común."
      ]
    },
    {
      "cell_type": "code",
      "metadata": {
        "colab": {
          "resources": {
            "http://localhost:8080/nbextensions/google.colab/files.js": {
              "data": "Ly8gQ29weXJpZ2h0IDIwMTcgR29vZ2xlIExMQwovLwovLyBMaWNlbnNlZCB1bmRlciB0aGUgQXBhY2hlIExpY2Vuc2UsIFZlcnNpb24gMi4wICh0aGUgIkxpY2Vuc2UiKTsKLy8geW91IG1heSBub3QgdXNlIHRoaXMgZmlsZSBleGNlcHQgaW4gY29tcGxpYW5jZSB3aXRoIHRoZSBMaWNlbnNlLgovLyBZb3UgbWF5IG9idGFpbiBhIGNvcHkgb2YgdGhlIExpY2Vuc2UgYXQKLy8KLy8gICAgICBodHRwOi8vd3d3LmFwYWNoZS5vcmcvbGljZW5zZXMvTElDRU5TRS0yLjAKLy8KLy8gVW5sZXNzIHJlcXVpcmVkIGJ5IGFwcGxpY2FibGUgbGF3IG9yIGFncmVlZCB0byBpbiB3cml0aW5nLCBzb2Z0d2FyZQovLyBkaXN0cmlidXRlZCB1bmRlciB0aGUgTGljZW5zZSBpcyBkaXN0cmlidXRlZCBvbiBhbiAiQVMgSVMiIEJBU0lTLAovLyBXSVRIT1VUIFdBUlJBTlRJRVMgT1IgQ09ORElUSU9OUyBPRiBBTlkgS0lORCwgZWl0aGVyIGV4cHJlc3Mgb3IgaW1wbGllZC4KLy8gU2VlIHRoZSBMaWNlbnNlIGZvciB0aGUgc3BlY2lmaWMgbGFuZ3VhZ2UgZ292ZXJuaW5nIHBlcm1pc3Npb25zIGFuZAovLyBsaW1pdGF0aW9ucyB1bmRlciB0aGUgTGljZW5zZS4KCi8qKgogKiBAZmlsZW92ZXJ2aWV3IEhlbHBlcnMgZm9yIGdvb2dsZS5jb2xhYiBQeXRob24gbW9kdWxlLgogKi8KKGZ1bmN0aW9uKHNjb3BlKSB7CmZ1bmN0aW9uIHNwYW4odGV4dCwgc3R5bGVBdHRyaWJ1dGVzID0ge30pIHsKICBjb25zdCBlbGVtZW50ID0gZG9jdW1lbnQuY3JlYXRlRWxlbWVudCgnc3BhbicpOwogIGVsZW1lbnQudGV4dENvbnRlbnQgPSB0ZXh0OwogIGZvciAoY29uc3Qga2V5IG9mIE9iamVjdC5rZXlzKHN0eWxlQXR0cmlidXRlcykpIHsKICAgIGVsZW1lbnQuc3R5bGVba2V5XSA9IHN0eWxlQXR0cmlidXRlc1trZXldOwogIH0KICByZXR1cm4gZWxlbWVudDsKfQoKLy8gTWF4IG51bWJlciBvZiBieXRlcyB3aGljaCB3aWxsIGJlIHVwbG9hZGVkIGF0IGEgdGltZS4KY29uc3QgTUFYX1BBWUxPQURfU0laRSA9IDEwMCAqIDEwMjQ7CgpmdW5jdGlvbiBfdXBsb2FkRmlsZXMoaW5wdXRJZCwgb3V0cHV0SWQpIHsKICBjb25zdCBzdGVwcyA9IHVwbG9hZEZpbGVzU3RlcChpbnB1dElkLCBvdXRwdXRJZCk7CiAgY29uc3Qgb3V0cHV0RWxlbWVudCA9IGRvY3VtZW50LmdldEVsZW1lbnRCeUlkKG91dHB1dElkKTsKICAvLyBDYWNoZSBzdGVwcyBvbiB0aGUgb3V0cHV0RWxlbWVudCB0byBtYWtlIGl0IGF2YWlsYWJsZSBmb3IgdGhlIG5leHQgY2FsbAogIC8vIHRvIHVwbG9hZEZpbGVzQ29udGludWUgZnJvbSBQeXRob24uCiAgb3V0cHV0RWxlbWVudC5zdGVwcyA9IHN0ZXBzOwoKICByZXR1cm4gX3VwbG9hZEZpbGVzQ29udGludWUob3V0cHV0SWQpOwp9CgovLyBUaGlzIGlzIHJvdWdobHkgYW4gYXN5bmMgZ2VuZXJhdG9yIChub3Qgc3VwcG9ydGVkIGluIHRoZSBicm93c2VyIHlldCksCi8vIHdoZXJlIHRoZXJlIGFyZSBtdWx0aXBsZSBhc3luY2hyb25vdXMgc3RlcHMgYW5kIHRoZSBQeXRob24gc2lkZSBpcyBnb2luZwovLyB0byBwb2xsIGZvciBjb21wbGV0aW9uIG9mIGVhY2ggc3RlcC4KLy8gVGhpcyB1c2VzIGEgUHJvbWlzZSB0byBibG9jayB0aGUgcHl0aG9uIHNpZGUgb24gY29tcGxldGlvbiBvZiBlYWNoIHN0ZXAsCi8vIHRoZW4gcGFzc2VzIHRoZSByZXN1bHQgb2YgdGhlIHByZXZpb3VzIHN0ZXAgYXMgdGhlIGlucHV0IHRvIHRoZSBuZXh0IHN0ZXAuCmZ1bmN0aW9uIF91cGxvYWRGaWxlc0NvbnRpbnVlKG91dHB1dElkKSB7CiAgY29uc3Qgb3V0cHV0RWxlbWVudCA9IGRvY3VtZW50LmdldEVsZW1lbnRCeUlkKG91dHB1dElkKTsKICBjb25zdCBzdGVwcyA9IG91dHB1dEVsZW1lbnQuc3RlcHM7CgogIGNvbnN0IG5leHQgPSBzdGVwcy5uZXh0KG91dHB1dEVsZW1lbnQubGFzdFByb21pc2VWYWx1ZSk7CiAgcmV0dXJuIFByb21pc2UucmVzb2x2ZShuZXh0LnZhbHVlLnByb21pc2UpLnRoZW4oKHZhbHVlKSA9PiB7CiAgICAvLyBDYWNoZSB0aGUgbGFzdCBwcm9taXNlIHZhbHVlIHRvIG1ha2UgaXQgYXZhaWxhYmxlIHRvIHRoZSBuZXh0CiAgICAvLyBzdGVwIG9mIHRoZSBnZW5lcmF0b3IuCiAgICBvdXRwdXRFbGVtZW50Lmxhc3RQcm9taXNlVmFsdWUgPSB2YWx1ZTsKICAgIHJldHVybiBuZXh0LnZhbHVlLnJlc3BvbnNlOwogIH0pOwp9CgovKioKICogR2VuZXJhdG9yIGZ1bmN0aW9uIHdoaWNoIGlzIGNhbGxlZCBiZXR3ZWVuIGVhY2ggYXN5bmMgc3RlcCBvZiB0aGUgdXBsb2FkCiAqIHByb2Nlc3MuCiAqIEBwYXJhbSB7c3RyaW5nfSBpbnB1dElkIEVsZW1lbnQgSUQgb2YgdGhlIGlucHV0IGZpbGUgcGlja2VyIGVsZW1lbnQuCiAqIEBwYXJhbSB7c3RyaW5nfSBvdXRwdXRJZCBFbGVtZW50IElEIG9mIHRoZSBvdXRwdXQgZGlzcGxheS4KICogQHJldHVybiB7IUl0ZXJhYmxlPCFPYmplY3Q+fSBJdGVyYWJsZSBvZiBuZXh0IHN0ZXBzLgogKi8KZnVuY3Rpb24qIHVwbG9hZEZpbGVzU3RlcChpbnB1dElkLCBvdXRwdXRJZCkgewogIGNvbnN0IGlucHV0RWxlbWVudCA9IGRvY3VtZW50LmdldEVsZW1lbnRCeUlkKGlucHV0SWQpOwogIGlucHV0RWxlbWVudC5kaXNhYmxlZCA9IGZhbHNlOwoKICBjb25zdCBvdXRwdXRFbGVtZW50ID0gZG9jdW1lbnQuZ2V0RWxlbWVudEJ5SWQob3V0cHV0SWQpOwogIG91dHB1dEVsZW1lbnQuaW5uZXJIVE1MID0gJyc7CgogIGNvbnN0IHBpY2tlZFByb21pc2UgPSBuZXcgUHJvbWlzZSgocmVzb2x2ZSkgPT4gewogICAgaW5wdXRFbGVtZW50LmFkZEV2ZW50TGlzdGVuZXIoJ2NoYW5nZScsIChlKSA9PiB7CiAgICAgIHJlc29sdmUoZS50YXJnZXQuZmlsZXMpOwogICAgfSk7CiAgfSk7CgogIGNvbnN0IGNhbmNlbCA9IGRvY3VtZW50LmNyZWF0ZUVsZW1lbnQoJ2J1dHRvbicpOwogIGlucHV0RWxlbWVudC5wYXJlbnRFbGVtZW50LmFwcGVuZENoaWxkKGNhbmNlbCk7CiAgY2FuY2VsLnRleHRDb250ZW50ID0gJ0NhbmNlbCB1cGxvYWQnOwogIGNvbnN0IGNhbmNlbFByb21pc2UgPSBuZXcgUHJvbWlzZSgocmVzb2x2ZSkgPT4gewogICAgY2FuY2VsLm9uY2xpY2sgPSAoKSA9PiB7CiAgICAgIHJlc29sdmUobnVsbCk7CiAgICB9OwogIH0pOwoKICAvLyBXYWl0IGZvciB0aGUgdXNlciB0byBwaWNrIHRoZSBmaWxlcy4KICBjb25zdCBmaWxlcyA9IHlpZWxkIHsKICAgIHByb21pc2U6IFByb21pc2UucmFjZShbcGlja2VkUHJvbWlzZSwgY2FuY2VsUHJvbWlzZV0pLAogICAgcmVzcG9uc2U6IHsKICAgICAgYWN0aW9uOiAnc3RhcnRpbmcnLAogICAgfQogIH07CgogIGNhbmNlbC5yZW1vdmUoKTsKCiAgLy8gRGlzYWJsZSB0aGUgaW5wdXQgZWxlbWVudCBzaW5jZSBmdXJ0aGVyIHBpY2tzIGFyZSBub3QgYWxsb3dlZC4KICBpbnB1dEVsZW1lbnQuZGlzYWJsZWQgPSB0cnVlOwoKICBpZiAoIWZpbGVzKSB7CiAgICByZXR1cm4gewogICAgICByZXNwb25zZTogewogICAgICAgIGFjdGlvbjogJ2NvbXBsZXRlJywKICAgICAgfQogICAgfTsKICB9CgogIGZvciAoY29uc3QgZmlsZSBvZiBmaWxlcykgewogICAgY29uc3QgbGkgPSBkb2N1bWVudC5jcmVhdGVFbGVtZW50KCdsaScpOwogICAgbGkuYXBwZW5kKHNwYW4oZmlsZS5uYW1lLCB7Zm9udFdlaWdodDogJ2JvbGQnfSkpOwogICAgbGkuYXBwZW5kKHNwYW4oCiAgICAgICAgYCgke2ZpbGUudHlwZSB8fCAnbi9hJ30pIC0gJHtmaWxlLnNpemV9IGJ5dGVzLCBgICsKICAgICAgICBgbGFzdCBtb2RpZmllZDogJHsKICAgICAgICAgICAgZmlsZS5sYXN0TW9kaWZpZWREYXRlID8gZmlsZS5sYXN0TW9kaWZpZWREYXRlLnRvTG9jYWxlRGF0ZVN0cmluZygpIDoKICAgICAgICAgICAgICAgICAgICAgICAgICAgICAgICAgICAgJ24vYSd9IC0gYCkpOwogICAgY29uc3QgcGVyY2VudCA9IHNwYW4oJzAlIGRvbmUnKTsKICAgIGxpLmFwcGVuZENoaWxkKHBlcmNlbnQpOwoKICAgIG91dHB1dEVsZW1lbnQuYXBwZW5kQ2hpbGQobGkpOwoKICAgIGNvbnN0IGZpbGVEYXRhUHJvbWlzZSA9IG5ldyBQcm9taXNlKChyZXNvbHZlKSA9PiB7CiAgICAgIGNvbnN0IHJlYWRlciA9IG5ldyBGaWxlUmVhZGVyKCk7CiAgICAgIHJlYWRlci5vbmxvYWQgPSAoZSkgPT4gewogICAgICAgIHJlc29sdmUoZS50YXJnZXQucmVzdWx0KTsKICAgICAgfTsKICAgICAgcmVhZGVyLnJlYWRBc0FycmF5QnVmZmVyKGZpbGUpOwogICAgfSk7CiAgICAvLyBXYWl0IGZvciB0aGUgZGF0YSB0byBiZSByZWFkeS4KICAgIGxldCBmaWxlRGF0YSA9IHlpZWxkIHsKICAgICAgcHJvbWlzZTogZmlsZURhdGFQcm9taXNlLAogICAgICByZXNwb25zZTogewogICAgICAgIGFjdGlvbjogJ2NvbnRpbnVlJywKICAgICAgfQogICAgfTsKCiAgICAvLyBVc2UgYSBjaHVua2VkIHNlbmRpbmcgdG8gYXZvaWQgbWVzc2FnZSBzaXplIGxpbWl0cy4gU2VlIGIvNjIxMTU2NjAuCiAgICBsZXQgcG9zaXRpb24gPSAwOwogICAgZG8gewogICAgICBjb25zdCBsZW5ndGggPSBNYXRoLm1pbihmaWxlRGF0YS5ieXRlTGVuZ3RoIC0gcG9zaXRpb24sIE1BWF9QQVlMT0FEX1NJWkUpOwogICAgICBjb25zdCBjaHVuayA9IG5ldyBVaW50OEFycmF5KGZpbGVEYXRhLCBwb3NpdGlvbiwgbGVuZ3RoKTsKICAgICAgcG9zaXRpb24gKz0gbGVuZ3RoOwoKICAgICAgY29uc3QgYmFzZTY0ID0gYnRvYShTdHJpbmcuZnJvbUNoYXJDb2RlLmFwcGx5KG51bGwsIGNodW5rKSk7CiAgICAgIHlpZWxkIHsKICAgICAgICByZXNwb25zZTogewogICAgICAgICAgYWN0aW9uOiAnYXBwZW5kJywKICAgICAgICAgIGZpbGU6IGZpbGUubmFtZSwKICAgICAgICAgIGRhdGE6IGJhc2U2NCwKICAgICAgICB9LAogICAgICB9OwoKICAgICAgbGV0IHBlcmNlbnREb25lID0gZmlsZURhdGEuYnl0ZUxlbmd0aCA9PT0gMCA/CiAgICAgICAgICAxMDAgOgogICAgICAgICAgTWF0aC5yb3VuZCgocG9zaXRpb24gLyBmaWxlRGF0YS5ieXRlTGVuZ3RoKSAqIDEwMCk7CiAgICAgIHBlcmNlbnQudGV4dENvbnRlbnQgPSBgJHtwZXJjZW50RG9uZX0lIGRvbmVgOwoKICAgIH0gd2hpbGUgKHBvc2l0aW9uIDwgZmlsZURhdGEuYnl0ZUxlbmd0aCk7CiAgfQoKICAvLyBBbGwgZG9uZS4KICB5aWVsZCB7CiAgICByZXNwb25zZTogewogICAgICBhY3Rpb246ICdjb21wbGV0ZScsCiAgICB9CiAgfTsKfQoKc2NvcGUuZ29vZ2xlID0gc2NvcGUuZ29vZ2xlIHx8IHt9OwpzY29wZS5nb29nbGUuY29sYWIgPSBzY29wZS5nb29nbGUuY29sYWIgfHwge307CnNjb3BlLmdvb2dsZS5jb2xhYi5fZmlsZXMgPSB7CiAgX3VwbG9hZEZpbGVzLAogIF91cGxvYWRGaWxlc0NvbnRpbnVlLAp9Owp9KShzZWxmKTsK",
              "ok": true,
              "headers": [
                [
                  "content-type",
                  "application/javascript"
                ]
              ],
              "status": 200,
              "status_text": ""
            }
          },
          "base_uri": "https://localhost:8080/",
          "height": 74
        },
        "id": "QnYW6JvY6wt7",
        "outputId": "963ef8c8-fef8-40ca-b093-cef5fa049a98"
      },
      "source": [
        "from google.colab import files\n",
        "uploaded = files.upload()"
      ],
      "execution_count": null,
      "outputs": [
        {
          "output_type": "display_data",
          "data": {
            "text/html": [
              "\n",
              "     <input type=\"file\" id=\"files-ae0e5774-3b12-4b64-97ef-4956aae3d372\" name=\"files[]\" multiple disabled\n",
              "        style=\"border:none\" />\n",
              "     <output id=\"result-ae0e5774-3b12-4b64-97ef-4956aae3d372\">\n",
              "      Upload widget is only available when the cell has been executed in the\n",
              "      current browser session. Please rerun this cell to enable.\n",
              "      </output>\n",
              "      <script src=\"/nbextensions/google.colab/files.js\"></script> "
            ],
            "text/plain": [
              "<IPython.core.display.HTML object>"
            ]
          },
          "metadata": {}
        },
        {
          "output_type": "stream",
          "name": "stdout",
          "text": [
            "Saving Ejercicio_notas_periodísticas.xlsx to Ejercicio_notas_periodísticas.xlsx\n"
          ]
        }
      ]
    },
    {
      "cell_type": "markdown",
      "metadata": {
        "id": "zFrHYI4n7GCn"
      },
      "source": [
        "##Bibliotecas\n"
      ]
    },
    {
      "cell_type": "code",
      "metadata": {
        "colab": {
          "base_uri": "https://localhost:8080/"
        },
        "id": "mIz1BUj7-rpr",
        "outputId": "b9b107cf-f6fb-4195-e0bc-cdcc07acb2b6"
      },
      "source": [
        "!pip install scispacy\n",
        "!spacy download es_core_news_md"
      ],
      "execution_count": null,
      "outputs": [
        {
          "output_type": "stream",
          "name": "stdout",
          "text": [
            "Collecting scispacy\n",
            "  Downloading scispacy-0.4.0-py3-none-any.whl (44 kB)\n",
            "\u001b[?25l\r\u001b[K     |███████▍                        | 10 kB 25.4 MB/s eta 0:00:01\r\u001b[K     |██████████████▉                 | 20 kB 29.2 MB/s eta 0:00:01\r\u001b[K     |██████████████████████▏         | 30 kB 32.3 MB/s eta 0:00:01\r\u001b[K     |█████████████████████████████▋  | 40 kB 35.5 MB/s eta 0:00:01\r\u001b[K     |████████████████████████████████| 44 kB 2.3 MB/s \n",
            "\u001b[?25hCollecting pysbd\n",
            "  Downloading pysbd-0.3.4-py3-none-any.whl (71 kB)\n",
            "\u001b[K     |████████████████████████████████| 71 kB 6.5 MB/s \n",
            "\u001b[?25hRequirement already satisfied: joblib in /usr/local/lib/python3.7/dist-packages (from scispacy) (1.1.0)\n",
            "Collecting nmslib>=1.7.3.6\n",
            "  Downloading nmslib-2.1.1-cp37-cp37m-manylinux2010_x86_64.whl (13.5 MB)\n",
            "\u001b[K     |████████████████████████████████| 13.5 MB 38.6 MB/s \n",
            "\u001b[?25hCollecting conllu\n",
            "  Downloading conllu-4.4.1-py2.py3-none-any.whl (15 kB)\n",
            "Requirement already satisfied: numpy in /usr/local/lib/python3.7/dist-packages (from scispacy) (1.19.5)\n",
            "Requirement already satisfied: scikit-learn>=0.20.3 in /usr/local/lib/python3.7/dist-packages (from scispacy) (1.0.1)\n",
            "Requirement already satisfied: requests<3.0.0,>=2.0.0 in /usr/local/lib/python3.7/dist-packages (from scispacy) (2.23.0)\n",
            "Collecting spacy<3.1.0,>=3.0.0\n",
            "  Downloading spacy-3.0.7-cp37-cp37m-manylinux_2_17_x86_64.manylinux2014_x86_64.whl (6.3 MB)\n",
            "\u001b[K     |████████████████████████████████| 6.3 MB 49.0 MB/s \n",
            "\u001b[?25hRequirement already satisfied: psutil in /usr/local/lib/python3.7/dist-packages (from nmslib>=1.7.3.6->scispacy) (5.4.8)\n",
            "Collecting pybind11<2.6.2\n",
            "  Downloading pybind11-2.6.1-py2.py3-none-any.whl (188 kB)\n",
            "\u001b[K     |████████████████████████████████| 188 kB 48.0 MB/s \n",
            "\u001b[?25hRequirement already satisfied: chardet<4,>=3.0.2 in /usr/local/lib/python3.7/dist-packages (from requests<3.0.0,>=2.0.0->scispacy) (3.0.4)\n",
            "Requirement already satisfied: certifi>=2017.4.17 in /usr/local/lib/python3.7/dist-packages (from requests<3.0.0,>=2.0.0->scispacy) (2021.10.8)\n",
            "Requirement already satisfied: idna<3,>=2.5 in /usr/local/lib/python3.7/dist-packages (from requests<3.0.0,>=2.0.0->scispacy) (2.10)\n",
            "Requirement already satisfied: urllib3!=1.25.0,!=1.25.1,<1.26,>=1.21.1 in /usr/local/lib/python3.7/dist-packages (from requests<3.0.0,>=2.0.0->scispacy) (1.24.3)\n",
            "Requirement already satisfied: scipy>=1.1.0 in /usr/local/lib/python3.7/dist-packages (from scikit-learn>=0.20.3->scispacy) (1.4.1)\n",
            "Requirement already satisfied: threadpoolctl>=2.0.0 in /usr/local/lib/python3.7/dist-packages (from scikit-learn>=0.20.3->scispacy) (3.0.0)\n",
            "Collecting typer<0.4.0,>=0.3.0\n",
            "  Downloading typer-0.3.2-py3-none-any.whl (21 kB)\n",
            "Requirement already satisfied: wasabi<1.1.0,>=0.8.1 in /usr/local/lib/python3.7/dist-packages (from spacy<3.1.0,>=3.0.0->scispacy) (0.8.2)\n",
            "Collecting srsly<3.0.0,>=2.4.1\n",
            "  Downloading srsly-2.4.2-cp37-cp37m-manylinux_2_17_x86_64.manylinux2014_x86_64.whl (451 kB)\n",
            "\u001b[K     |████████████████████████████████| 451 kB 46.7 MB/s \n",
            "\u001b[?25hRequirement already satisfied: murmurhash<1.1.0,>=0.28.0 in /usr/local/lib/python3.7/dist-packages (from spacy<3.1.0,>=3.0.0->scispacy) (1.0.6)\n",
            "Collecting pathy>=0.3.5\n",
            "  Downloading pathy-0.6.1-py3-none-any.whl (42 kB)\n",
            "\u001b[K     |████████████████████████████████| 42 kB 1.3 MB/s \n",
            "\u001b[?25hRequirement already satisfied: packaging>=20.0 in /usr/local/lib/python3.7/dist-packages (from spacy<3.1.0,>=3.0.0->scispacy) (21.3)\n",
            "Requirement already satisfied: blis<0.8.0,>=0.4.0 in /usr/local/lib/python3.7/dist-packages (from spacy<3.1.0,>=3.0.0->scispacy) (0.4.1)\n",
            "Requirement already satisfied: typing-extensions<4.0.0.0,>=3.7.4 in /usr/local/lib/python3.7/dist-packages (from spacy<3.1.0,>=3.0.0->scispacy) (3.10.0.2)\n",
            "Collecting catalogue<2.1.0,>=2.0.4\n",
            "  Downloading catalogue-2.0.6-py3-none-any.whl (17 kB)\n",
            "Requirement already satisfied: setuptools in /usr/local/lib/python3.7/dist-packages (from spacy<3.1.0,>=3.0.0->scispacy) (57.4.0)\n",
            "Requirement already satisfied: preshed<3.1.0,>=3.0.2 in /usr/local/lib/python3.7/dist-packages (from spacy<3.1.0,>=3.0.0->scispacy) (3.0.6)\n",
            "Requirement already satisfied: tqdm<5.0.0,>=4.38.0 in /usr/local/lib/python3.7/dist-packages (from spacy<3.1.0,>=3.0.0->scispacy) (4.62.3)\n",
            "Collecting thinc<8.1.0,>=8.0.3\n",
            "  Downloading thinc-8.0.13-cp37-cp37m-manylinux_2_17_x86_64.manylinux2014_x86_64.whl (628 kB)\n",
            "\u001b[K     |████████████████████████████████| 628 kB 46.8 MB/s \n",
            "\u001b[?25hCollecting spacy-legacy<3.1.0,>=3.0.5\n",
            "  Downloading spacy_legacy-3.0.8-py2.py3-none-any.whl (14 kB)\n",
            "Requirement already satisfied: cymem<2.1.0,>=2.0.2 in /usr/local/lib/python3.7/dist-packages (from spacy<3.1.0,>=3.0.0->scispacy) (2.0.6)\n",
            "Collecting pydantic!=1.8,!=1.8.1,<1.9.0,>=1.7.4\n",
            "  Downloading pydantic-1.8.2-cp37-cp37m-manylinux2014_x86_64.whl (10.1 MB)\n",
            "\u001b[K     |████████████████████████████████| 10.1 MB 73.2 MB/s \n",
            "\u001b[?25hRequirement already satisfied: jinja2 in /usr/local/lib/python3.7/dist-packages (from spacy<3.1.0,>=3.0.0->scispacy) (2.11.3)\n",
            "Requirement already satisfied: zipp>=0.5 in /usr/local/lib/python3.7/dist-packages (from catalogue<2.1.0,>=2.0.4->spacy<3.1.0,>=3.0.0->scispacy) (3.6.0)\n",
            "Requirement already satisfied: pyparsing!=3.0.5,>=2.0.2 in /usr/local/lib/python3.7/dist-packages (from packaging>=20.0->spacy<3.1.0,>=3.0.0->scispacy) (3.0.6)\n",
            "Requirement already satisfied: smart-open<6.0.0,>=5.0.0 in /usr/local/lib/python3.7/dist-packages (from pathy>=0.3.5->spacy<3.1.0,>=3.0.0->scispacy) (5.2.1)\n",
            "Requirement already satisfied: click<7.2.0,>=7.1.1 in /usr/local/lib/python3.7/dist-packages (from typer<0.4.0,>=0.3.0->spacy<3.1.0,>=3.0.0->scispacy) (7.1.2)\n",
            "Requirement already satisfied: MarkupSafe>=0.23 in /usr/local/lib/python3.7/dist-packages (from jinja2->spacy<3.1.0,>=3.0.0->scispacy) (2.0.1)\n",
            "Installing collected packages: catalogue, typer, srsly, pydantic, thinc, spacy-legacy, pybind11, pathy, spacy, pysbd, nmslib, conllu, scispacy\n",
            "  Attempting uninstall: catalogue\n",
            "    Found existing installation: catalogue 1.0.0\n",
            "    Uninstalling catalogue-1.0.0:\n",
            "      Successfully uninstalled catalogue-1.0.0\n",
            "  Attempting uninstall: srsly\n",
            "    Found existing installation: srsly 1.0.5\n",
            "    Uninstalling srsly-1.0.5:\n",
            "      Successfully uninstalled srsly-1.0.5\n",
            "  Attempting uninstall: thinc\n",
            "    Found existing installation: thinc 7.4.0\n",
            "    Uninstalling thinc-7.4.0:\n",
            "      Successfully uninstalled thinc-7.4.0\n",
            "  Attempting uninstall: spacy\n",
            "    Found existing installation: spacy 2.2.4\n",
            "    Uninstalling spacy-2.2.4:\n",
            "      Successfully uninstalled spacy-2.2.4\n",
            "Successfully installed catalogue-2.0.6 conllu-4.4.1 nmslib-2.1.1 pathy-0.6.1 pybind11-2.6.1 pydantic-1.8.2 pysbd-0.3.4 scispacy-0.4.0 spacy-3.0.7 spacy-legacy-3.0.8 srsly-2.4.2 thinc-8.0.13 typer-0.3.2\n",
            "Collecting es-core-news-md==3.0.0\n",
            "  Downloading https://github.com/explosion/spacy-models/releases/download/es_core_news_md-3.0.0/es_core_news_md-3.0.0-py3-none-any.whl (44.0 MB)\n",
            "\u001b[K     |████████████████████████████████| 44.0 MB 1.5 MB/s \n",
            "\u001b[?25hRequirement already satisfied: spacy<3.1.0,>=3.0.0 in /usr/local/lib/python3.7/dist-packages (from es-core-news-md==3.0.0) (3.0.7)\n",
            "Requirement already satisfied: wasabi<1.1.0,>=0.8.1 in /usr/local/lib/python3.7/dist-packages (from spacy<3.1.0,>=3.0.0->es-core-news-md==3.0.0) (0.8.2)\n",
            "Requirement already satisfied: numpy>=1.15.0 in /usr/local/lib/python3.7/dist-packages (from spacy<3.1.0,>=3.0.0->es-core-news-md==3.0.0) (1.19.5)\n",
            "Requirement already satisfied: tqdm<5.0.0,>=4.38.0 in /usr/local/lib/python3.7/dist-packages (from spacy<3.1.0,>=3.0.0->es-core-news-md==3.0.0) (4.62.3)\n",
            "Requirement already satisfied: typer<0.4.0,>=0.3.0 in /usr/local/lib/python3.7/dist-packages (from spacy<3.1.0,>=3.0.0->es-core-news-md==3.0.0) (0.3.2)\n",
            "Requirement already satisfied: pathy>=0.3.5 in /usr/local/lib/python3.7/dist-packages (from spacy<3.1.0,>=3.0.0->es-core-news-md==3.0.0) (0.6.1)\n",
            "Requirement already satisfied: packaging>=20.0 in /usr/local/lib/python3.7/dist-packages (from spacy<3.1.0,>=3.0.0->es-core-news-md==3.0.0) (21.3)\n",
            "Requirement already satisfied: murmurhash<1.1.0,>=0.28.0 in /usr/local/lib/python3.7/dist-packages (from spacy<3.1.0,>=3.0.0->es-core-news-md==3.0.0) (1.0.6)\n",
            "Requirement already satisfied: setuptools in /usr/local/lib/python3.7/dist-packages (from spacy<3.1.0,>=3.0.0->es-core-news-md==3.0.0) (57.4.0)\n",
            "Requirement already satisfied: cymem<2.1.0,>=2.0.2 in /usr/local/lib/python3.7/dist-packages (from spacy<3.1.0,>=3.0.0->es-core-news-md==3.0.0) (2.0.6)\n",
            "Requirement already satisfied: spacy-legacy<3.1.0,>=3.0.5 in /usr/local/lib/python3.7/dist-packages (from spacy<3.1.0,>=3.0.0->es-core-news-md==3.0.0) (3.0.8)\n",
            "Requirement already satisfied: blis<0.8.0,>=0.4.0 in /usr/local/lib/python3.7/dist-packages (from spacy<3.1.0,>=3.0.0->es-core-news-md==3.0.0) (0.4.1)\n",
            "Requirement already satisfied: preshed<3.1.0,>=3.0.2 in /usr/local/lib/python3.7/dist-packages (from spacy<3.1.0,>=3.0.0->es-core-news-md==3.0.0) (3.0.6)\n",
            "Requirement already satisfied: catalogue<2.1.0,>=2.0.4 in /usr/local/lib/python3.7/dist-packages (from spacy<3.1.0,>=3.0.0->es-core-news-md==3.0.0) (2.0.6)\n",
            "Requirement already satisfied: pydantic!=1.8,!=1.8.1,<1.9.0,>=1.7.4 in /usr/local/lib/python3.7/dist-packages (from spacy<3.1.0,>=3.0.0->es-core-news-md==3.0.0) (1.8.2)\n",
            "Requirement already satisfied: srsly<3.0.0,>=2.4.1 in /usr/local/lib/python3.7/dist-packages (from spacy<3.1.0,>=3.0.0->es-core-news-md==3.0.0) (2.4.2)\n",
            "Requirement already satisfied: jinja2 in /usr/local/lib/python3.7/dist-packages (from spacy<3.1.0,>=3.0.0->es-core-news-md==3.0.0) (2.11.3)\n",
            "Requirement already satisfied: thinc<8.1.0,>=8.0.3 in /usr/local/lib/python3.7/dist-packages (from spacy<3.1.0,>=3.0.0->es-core-news-md==3.0.0) (8.0.13)\n",
            "Requirement already satisfied: typing-extensions<4.0.0.0,>=3.7.4 in /usr/local/lib/python3.7/dist-packages (from spacy<3.1.0,>=3.0.0->es-core-news-md==3.0.0) (3.10.0.2)\n",
            "Requirement already satisfied: requests<3.0.0,>=2.13.0 in /usr/local/lib/python3.7/dist-packages (from spacy<3.1.0,>=3.0.0->es-core-news-md==3.0.0) (2.23.0)\n",
            "Requirement already satisfied: zipp>=0.5 in /usr/local/lib/python3.7/dist-packages (from catalogue<2.1.0,>=2.0.4->spacy<3.1.0,>=3.0.0->es-core-news-md==3.0.0) (3.6.0)\n",
            "Requirement already satisfied: pyparsing!=3.0.5,>=2.0.2 in /usr/local/lib/python3.7/dist-packages (from packaging>=20.0->spacy<3.1.0,>=3.0.0->es-core-news-md==3.0.0) (3.0.6)\n",
            "Requirement already satisfied: smart-open<6.0.0,>=5.0.0 in /usr/local/lib/python3.7/dist-packages (from pathy>=0.3.5->spacy<3.1.0,>=3.0.0->es-core-news-md==3.0.0) (5.2.1)\n",
            "Requirement already satisfied: idna<3,>=2.5 in /usr/local/lib/python3.7/dist-packages (from requests<3.0.0,>=2.13.0->spacy<3.1.0,>=3.0.0->es-core-news-md==3.0.0) (2.10)\n",
            "Requirement already satisfied: certifi>=2017.4.17 in /usr/local/lib/python3.7/dist-packages (from requests<3.0.0,>=2.13.0->spacy<3.1.0,>=3.0.0->es-core-news-md==3.0.0) (2021.10.8)\n",
            "Requirement already satisfied: urllib3!=1.25.0,!=1.25.1,<1.26,>=1.21.1 in /usr/local/lib/python3.7/dist-packages (from requests<3.0.0,>=2.13.0->spacy<3.1.0,>=3.0.0->es-core-news-md==3.0.0) (1.24.3)\n",
            "Requirement already satisfied: chardet<4,>=3.0.2 in /usr/local/lib/python3.7/dist-packages (from requests<3.0.0,>=2.13.0->spacy<3.1.0,>=3.0.0->es-core-news-md==3.0.0) (3.0.4)\n",
            "Requirement already satisfied: click<7.2.0,>=7.1.1 in /usr/local/lib/python3.7/dist-packages (from typer<0.4.0,>=0.3.0->spacy<3.1.0,>=3.0.0->es-core-news-md==3.0.0) (7.1.2)\n",
            "Requirement already satisfied: MarkupSafe>=0.23 in /usr/local/lib/python3.7/dist-packages (from jinja2->spacy<3.1.0,>=3.0.0->es-core-news-md==3.0.0) (2.0.1)\n",
            "Installing collected packages: es-core-news-md\n",
            "Successfully installed es-core-news-md-3.0.0\n",
            "\u001b[38;5;2m✔ Download and installation successful\u001b[0m\n",
            "You can now load the package via spacy.load('es_core_news_md')\n"
          ]
        }
      ]
    },
    {
      "cell_type": "code",
      "metadata": {
        "id": "AkE5x8aW7HuI"
      },
      "source": [
        "import re\n",
        "import nltk\n",
        "import spacy\n",
        "import numpy as np\n",
        "import pandas as pd\n",
        "import matplotlib.pyplot as plt\n",
        "\n",
        "\n",
        "import gensim\n",
        "from gensim import models, corpora\n",
        "from gensim.models import CoherenceModel"
      ],
      "execution_count": null,
      "outputs": []
    },
    {
      "cell_type": "code",
      "metadata": {
        "colab": {
          "base_uri": "https://localhost:8080/"
        },
        "id": "Cy0JR60YCcK_",
        "outputId": "d986efac-dbea-41d4-b727-b1ca086cb689"
      },
      "source": [
        "nltk.download('punkt')"
      ],
      "execution_count": null,
      "outputs": [
        {
          "output_type": "stream",
          "name": "stdout",
          "text": [
            "[nltk_data] Downloading package punkt to /root/nltk_data...\n",
            "[nltk_data]   Unzipping tokenizers/punkt.zip.\n"
          ]
        },
        {
          "output_type": "execute_result",
          "data": {
            "text/plain": [
              "True"
            ]
          },
          "metadata": {},
          "execution_count": 4
        }
      ]
    },
    {
      "cell_type": "markdown",
      "metadata": {
        "id": "C-zT4ixTPRon"
      },
      "source": [
        "##Cargando datos"
      ]
    },
    {
      "cell_type": "code",
      "metadata": {
        "colab": {
          "base_uri": "https://localhost:8080/",
          "height": 206
        },
        "id": "XXQ6s-xp69Rr",
        "outputId": "610b47d2-23e3-4797-cd98-f80901b4668a"
      },
      "source": [
        "df_data = pd.read_excel(\"Ejercicio_notas_periodísticas.xlsx\")\n",
        "df_data.head(5)"
      ],
      "execution_count": null,
      "outputs": [
        {
          "output_type": "execute_result",
          "data": {
            "text/html": [
              "<div>\n",
              "<style scoped>\n",
              "    .dataframe tbody tr th:only-of-type {\n",
              "        vertical-align: middle;\n",
              "    }\n",
              "\n",
              "    .dataframe tbody tr th {\n",
              "        vertical-align: top;\n",
              "    }\n",
              "\n",
              "    .dataframe thead th {\n",
              "        text-align: right;\n",
              "    }\n",
              "</style>\n",
              "<table border=\"1\" class=\"dataframe\">\n",
              "  <thead>\n",
              "    <tr style=\"text-align: right;\">\n",
              "      <th></th>\n",
              "      <th>id</th>\n",
              "      <th>titulo</th>\n",
              "      <th>texto</th>\n",
              "      <th>dominio</th>\n",
              "    </tr>\n",
              "  </thead>\n",
              "  <tbody>\n",
              "    <tr>\n",
              "      <th>0</th>\n",
              "      <td>1</td>\n",
              "      <td>La Jornada - Sin diésel DUBA no puede renovars...</td>\n",
              "      <td>Ciudad de México. Ante la incapacidad de Petró...</td>\n",
              "      <td>jornada.com.mx</td>\n",
              "    </tr>\n",
              "    <tr>\n",
              "      <th>1</th>\n",
              "      <td>2</td>\n",
              "      <td>Ajustar NOM–044 demandan a la Semarnat titular...</td>\n",
              "      <td>Presidentes y directores ejecutivos de 12 orga...</td>\n",
              "      <td>automotores-rev.com</td>\n",
              "    </tr>\n",
              "    <tr>\n",
              "      <th>2</th>\n",
              "      <td>3</td>\n",
              "      <td>Disminuye disposición de diesel más limpio</td>\n",
              "      <td>Las principales asociaciones de transporte de ...</td>\n",
              "      <td>eluniversal.com.mx</td>\n",
              "    </tr>\n",
              "    <tr>\n",
              "      <th>3</th>\n",
              "      <td>4</td>\n",
              "      <td>A la baja, oferta de diésel de ultra bajo azuf...</td>\n",
              "      <td>Ante la incapacidad de Petróleos Mexicanos (P...</td>\n",
              "      <td>eleconomista.com.mx</td>\n",
              "    </tr>\n",
              "    <tr>\n",
              "      <th>4</th>\n",
              "      <td>5</td>\n",
              "      <td>Disminuye disponibilidad de diésel UBA en los ...</td>\n",
              "      <td>Las principales asociaciones de transporte de ...</td>\n",
              "      <td>eluniversal.com.mx</td>\n",
              "    </tr>\n",
              "  </tbody>\n",
              "</table>\n",
              "</div>"
            ],
            "text/plain": [
              "   id  ...              dominio\n",
              "0   1  ...       jornada.com.mx\n",
              "1   2  ...  automotores-rev.com\n",
              "2   3  ...   eluniversal.com.mx\n",
              "3   4  ...  eleconomista.com.mx\n",
              "4   5  ...   eluniversal.com.mx\n",
              "\n",
              "[5 rows x 4 columns]"
            ]
          },
          "metadata": {},
          "execution_count": 5
        }
      ]
    },
    {
      "cell_type": "markdown",
      "metadata": {
        "id": "ZNpoS5i_PXen"
      },
      "source": [
        "##Preprocesamiento de los textos del dataset\n",
        "\n",
        "*  Conversión de todas las palabras a minúsculas\n",
        "*  Eliminación de stopwords\n",
        "*  Tokenización\n",
        "*  Obtención de Bigramas"
      ]
    },
    {
      "cell_type": "code",
      "metadata": {
        "id": "NC4rsKtW5xzi"
      },
      "source": [
        "#convertir todas las palabras de los textos a minusculas\n",
        "df_data['texto'] = df_data['texto'].str.lower()\n",
        "\n",
        "#eliminar stopwords\n",
        "spacy.prefer_gpu()\n",
        "nlp = spacy.load('es_core_news_md')\n",
        "\n",
        "stop_words_sp = list(spacy.lang.es.stop_words.STOP_WORDS)\n",
        "stop_words_sp.extend(['a','versus','vía', 'acá', 'allá', 'atrás','cuan', 'etc', 'sr', 'sra','sres', 'y'])  \n",
        "\n",
        "def preprocess(text):\n",
        "  result = []\n",
        "  for token in gensim.utils.simple_preprocess(text):\n",
        "    if token not in stop_words_sp:\n",
        "      result.append(token)   \n",
        "  r = \" \".join(result)\n",
        "  return r\n",
        "\n",
        "df_data['texto_sin_stopwords'] = df_data['texto'].apply(preprocess)\n",
        "\n",
        "#tokenizacion del texto\n",
        "df_data['textos_tokenizados'] = df_data.apply(lambda row: nltk.word_tokenize(row['texto_sin_stopwords']), axis=1)\n",
        "documents_tokenized = list(df_data['textos_tokenizados'])\n",
        "\n",
        "#obtencion de bigramas\n",
        "bigram = gensim.models.Phrases(documents_tokenized, min_count=5, threshold=100) \n",
        "bigram_mod = gensim.models.phrases.Phraser(bigram)\n",
        "documents_bigram_tokenized = [bigram_mod[doc] for doc in documents_tokenized]\n",
        "\n",
        "df_data['textos_tokenizados'] = documents_bigram_tokenized\n",
        "documents_tokenized = list(df_data['textos_tokenizados'])"
      ],
      "execution_count": null,
      "outputs": []
    },
    {
      "cell_type": "code",
      "metadata": {
        "colab": {
          "base_uri": "https://localhost:8080/",
          "height": 293
        },
        "id": "kNoCFFN_FwLM",
        "outputId": "0defb6af-4af3-485c-d9fa-e7d6115a4874"
      },
      "source": [
        "df_data.head(5)"
      ],
      "execution_count": null,
      "outputs": [
        {
          "output_type": "execute_result",
          "data": {
            "text/html": [
              "<div>\n",
              "<style scoped>\n",
              "    .dataframe tbody tr th:only-of-type {\n",
              "        vertical-align: middle;\n",
              "    }\n",
              "\n",
              "    .dataframe tbody tr th {\n",
              "        vertical-align: top;\n",
              "    }\n",
              "\n",
              "    .dataframe thead th {\n",
              "        text-align: right;\n",
              "    }\n",
              "</style>\n",
              "<table border=\"1\" class=\"dataframe\">\n",
              "  <thead>\n",
              "    <tr style=\"text-align: right;\">\n",
              "      <th></th>\n",
              "      <th>id</th>\n",
              "      <th>titulo</th>\n",
              "      <th>texto</th>\n",
              "      <th>dominio</th>\n",
              "      <th>texto_sin_stopwords</th>\n",
              "      <th>textos_tokenizados</th>\n",
              "    </tr>\n",
              "  </thead>\n",
              "  <tbody>\n",
              "    <tr>\n",
              "      <th>0</th>\n",
              "      <td>1</td>\n",
              "      <td>La Jornada - Sin diésel DUBA no puede renovars...</td>\n",
              "      <td>ciudad de méxico. ante la incapacidad de petró...</td>\n",
              "      <td>jornada.com.mx</td>\n",
              "      <td>ciudad méxico incapacidad petróleos mexicanos ...</td>\n",
              "      <td>[ciudad, méxico, incapacidad, petróleos_mexica...</td>\n",
              "    </tr>\n",
              "    <tr>\n",
              "      <th>1</th>\n",
              "      <td>2</td>\n",
              "      <td>Ajustar NOM–044 demandan a la Semarnat titular...</td>\n",
              "      <td>presidentes y directores ejecutivos de 12 orga...</td>\n",
              "      <td>automotores-rev.com</td>\n",
              "      <td>presidentes directores ejecutivos organismos c...</td>\n",
              "      <td>[presidentes, directores, ejecutivos, organism...</td>\n",
              "    </tr>\n",
              "    <tr>\n",
              "      <th>2</th>\n",
              "      <td>3</td>\n",
              "      <td>Disminuye disposición de diesel más limpio</td>\n",
              "      <td>las principales asociaciones de transporte de ...</td>\n",
              "      <td>eluniversal.com.mx</td>\n",
              "      <td>principales asociaciones transporte carga pasa...</td>\n",
              "      <td>[principales, asociaciones, transporte, carga,...</td>\n",
              "    </tr>\n",
              "    <tr>\n",
              "      <th>3</th>\n",
              "      <td>4</td>\n",
              "      <td>A la baja, oferta de diésel de ultra bajo azuf...</td>\n",
              "      <td>ante la incapacidad de petróleos mexicanos (p...</td>\n",
              "      <td>eleconomista.com.mx</td>\n",
              "      <td>incapacidad petróleos mexicanos pemex producir...</td>\n",
              "      <td>[incapacidad, petróleos_mexicanos, pemex, prod...</td>\n",
              "    </tr>\n",
              "    <tr>\n",
              "      <th>4</th>\n",
              "      <td>5</td>\n",
              "      <td>Disminuye disponibilidad de diésel UBA en los ...</td>\n",
              "      <td>las principales asociaciones de transporte de ...</td>\n",
              "      <td>eluniversal.com.mx</td>\n",
              "      <td>principales asociaciones transporte carga pasa...</td>\n",
              "      <td>[principales, asociaciones, transporte, carga,...</td>\n",
              "    </tr>\n",
              "  </tbody>\n",
              "</table>\n",
              "</div>"
            ],
            "text/plain": [
              "   id  ...                                 textos_tokenizados\n",
              "0   1  ...  [ciudad, méxico, incapacidad, petróleos_mexica...\n",
              "1   2  ...  [presidentes, directores, ejecutivos, organism...\n",
              "2   3  ...  [principales, asociaciones, transporte, carga,...\n",
              "3   4  ...  [incapacidad, petróleos_mexicanos, pemex, prod...\n",
              "4   5  ...  [principales, asociaciones, transporte, carga,...\n",
              "\n",
              "[5 rows x 6 columns]"
            ]
          },
          "metadata": {},
          "execution_count": 7
        }
      ]
    },
    {
      "cell_type": "markdown",
      "metadata": {
        "id": "CM7Q7gXyPvVJ"
      },
      "source": [
        "## Obtención de representación Bolsa de palabras"
      ]
    },
    {
      "cell_type": "code",
      "metadata": {
        "id": "R_XTO4-ORBSo"
      },
      "source": [
        "#obtener vocabulario del corpus y mapearlo a un id\n",
        "id2word = corpora.Dictionary(documents_tokenized)\n",
        "\n",
        "#obtener representacion bag of words de cada documento\n",
        "corpus = [id2word.doc2bow(d) for d in documents_tokenized]"
      ],
      "execution_count": null,
      "outputs": []
    },
    {
      "cell_type": "markdown",
      "metadata": {
        "id": "OsqbkRmOO21Q"
      },
      "source": [
        "##Experimentos con multiples configuraciones"
      ]
    },
    {
      "cell_type": "code",
      "metadata": {
        "colab": {
          "base_uri": "https://localhost:8080/"
        },
        "id": "m8VG7IxLO60t",
        "outputId": "c8212e28-a889-42f2-900e-3a7864ba20bd"
      },
      "source": [
        "# Num_topics\n",
        "topics = range(2, 4, 1)\n",
        "\n",
        "# Alpha \n",
        "alpha = list(np.arange(0.01, 1, 0.3))\n",
        "alpha.append('symmetric')\n",
        "alpha.append('asymmetric')\n",
        "\n",
        "# Eta\n",
        "eta = list(np.arange(0.01, 1, 0.3))\n",
        "eta.append('symmetric')\n",
        "\n",
        "print(\"Posibles valores para el parámetro 'num_topics':\", list(topics))\n",
        "print(\"Posibles valores para el parámetro 'alpha':\", alpha)\n",
        "print(\"Posibles valores para el parámetro 'eta':\", eta)"
      ],
      "execution_count": null,
      "outputs": [
        {
          "output_type": "stream",
          "name": "stdout",
          "text": [
            "Posibles valores para el parámetro 'num_topics': [2, 3]\n",
            "Posibles valores para el parámetro 'alpha': [0.01, 0.31, 0.61, 0.9099999999999999, 'symmetric', 'asymmetric']\n",
            "Posibles valores para el parámetro 'eta': [0.01, 0.31, 0.61, 0.9099999999999999, 'symmetric']\n"
          ]
        }
      ]
    },
    {
      "cell_type": "code",
      "metadata": {
        "id": "DO5HUmtiPHuG"
      },
      "source": [
        "model_result = {'No.Topicos':[], 'Alpha': [], 'Eta': [], 'Coherence':[]}\n",
        "\n",
        "best_cv = 0\n",
        "best_no_topics = 0\n",
        "best_alpha = 0\n",
        "best_eta = 0\n",
        "\n",
        "for i in topics:\n",
        "  for j in alpha:\n",
        "    for k in eta:\n",
        "      lda_model = models.LdaModel(corpus, id2word=id2word, num_topics=i, passes=10, alpha=j, eta=k)\n",
        "      coherence_model = CoherenceModel(model=lda_model, texts = documents_tokenized, dictionary=id2word, coherence='c_v')\n",
        "      cv = coherence_model.get_coherence()\n",
        "      model_result['No.Topicos'].append(i)\n",
        "      model_result['Alpha'].append(j)\n",
        "      model_result['Eta'].append(k)\n",
        "      model_result['Coherence'].append(cv)\n",
        "\n",
        "      if cv > best_cv:\n",
        "        best_cv = cv\n",
        "        best_no_topics = i\n",
        "        best_alpha = j\n",
        "        best_eta = k\n",
        "\n",
        "df_models_evaluations = pd.DataFrame(model_result) "
      ],
      "execution_count": null,
      "outputs": []
    },
    {
      "cell_type": "code",
      "metadata": {
        "colab": {
          "base_uri": "https://localhost:8080/",
          "height": 223
        },
        "id": "6GXAq_JFpA_v",
        "outputId": "9cb96719-0cef-4ce1-a63d-b108cbd41ad9"
      },
      "source": [
        "print(\"Mejor Configuracion: No.Topicos={}, alpha={}, eta={}\".format(best_no_topics, best_alpha, best_eta))\n",
        "df_models_evaluations.head(5)"
      ],
      "execution_count": null,
      "outputs": [
        {
          "output_type": "stream",
          "name": "stdout",
          "text": [
            "Mejor Configuracion: No.Topicos=2, alpha=0.31, eta=0.61\n"
          ]
        },
        {
          "output_type": "execute_result",
          "data": {
            "text/html": [
              "<div>\n",
              "<style scoped>\n",
              "    .dataframe tbody tr th:only-of-type {\n",
              "        vertical-align: middle;\n",
              "    }\n",
              "\n",
              "    .dataframe tbody tr th {\n",
              "        vertical-align: top;\n",
              "    }\n",
              "\n",
              "    .dataframe thead th {\n",
              "        text-align: right;\n",
              "    }\n",
              "</style>\n",
              "<table border=\"1\" class=\"dataframe\">\n",
              "  <thead>\n",
              "    <tr style=\"text-align: right;\">\n",
              "      <th></th>\n",
              "      <th>No.Topicos</th>\n",
              "      <th>Alpha</th>\n",
              "      <th>Eta</th>\n",
              "      <th>Coherence</th>\n",
              "    </tr>\n",
              "  </thead>\n",
              "  <tbody>\n",
              "    <tr>\n",
              "      <th>0</th>\n",
              "      <td>2</td>\n",
              "      <td>0.01</td>\n",
              "      <td>0.01</td>\n",
              "      <td>0.678163</td>\n",
              "    </tr>\n",
              "    <tr>\n",
              "      <th>1</th>\n",
              "      <td>2</td>\n",
              "      <td>0.01</td>\n",
              "      <td>0.31</td>\n",
              "      <td>0.686144</td>\n",
              "    </tr>\n",
              "    <tr>\n",
              "      <th>2</th>\n",
              "      <td>2</td>\n",
              "      <td>0.01</td>\n",
              "      <td>0.61</td>\n",
              "      <td>0.514393</td>\n",
              "    </tr>\n",
              "    <tr>\n",
              "      <th>3</th>\n",
              "      <td>2</td>\n",
              "      <td>0.01</td>\n",
              "      <td>0.91</td>\n",
              "      <td>0.653167</td>\n",
              "    </tr>\n",
              "    <tr>\n",
              "      <th>4</th>\n",
              "      <td>2</td>\n",
              "      <td>0.01</td>\n",
              "      <td>symmetric</td>\n",
              "      <td>0.503969</td>\n",
              "    </tr>\n",
              "  </tbody>\n",
              "</table>\n",
              "</div>"
            ],
            "text/plain": [
              "   No.Topicos Alpha        Eta  Coherence\n",
              "0           2  0.01       0.01   0.678163\n",
              "1           2  0.01       0.31   0.686144\n",
              "2           2  0.01       0.61   0.514393\n",
              "3           2  0.01       0.91   0.653167\n",
              "4           2  0.01  symmetric   0.503969"
            ]
          },
          "metadata": {},
          "execution_count": 11
        }
      ]
    },
    {
      "cell_type": "code",
      "metadata": {
        "id": "2Q4Qbi8JQL27"
      },
      "source": [
        "best_lda_model = models.LdaModel(corpus, id2word=id2word, num_topics=best_no_topics, passes=10, alpha=best_alpha, eta=best_eta)"
      ],
      "execution_count": null,
      "outputs": []
    },
    {
      "cell_type": "markdown",
      "metadata": {
        "id": "UxjbFDfHQFDD"
      },
      "source": [
        "##Obtención de Tópicos"
      ]
    },
    {
      "cell_type": "code",
      "metadata": {
        "colab": {
          "base_uri": "https://localhost:8080/"
        },
        "id": "lIj2nKfoQIqZ",
        "outputId": "4ebba6bd-2add-4faf-ea4a-e31a4ed4044f"
      },
      "source": [
        "for i,topic in best_lda_model.show_topics(formatted=True, num_topics=best_no_topics, num_words=5):\n",
        "  print(str(i)+\": \"+ topic)\n",
        "  print()"
      ],
      "execution_count": null,
      "outputs": [
        {
          "output_type": "stream",
          "name": "stdout",
          "text": [
            "0: 0.015*\"pemex\" + 0.011*\"incendio\" + 0.011*\"gas\" + 0.010*\"méxico\" + 0.008*\"fuga\"\n",
            "\n",
            "1: 0.014*\"duba\" + 0.010*\"diésel\" + 0.008*\"pemex\" + 0.008*\"país\" + 0.007*\"industria\"\n",
            "\n"
          ]
        }
      ]
    },
    {
      "cell_type": "code",
      "metadata": {
        "colab": {
          "base_uri": "https://localhost:8080/"
        },
        "id": "B3aq_RjWQTRa",
        "outputId": "a574da60-3e32-4117-9aa6-f568269333ec"
      },
      "source": [
        "#obtener el topico de cada documento\n",
        "r=[]\n",
        "for i in range(df_data.shape[0]):\n",
        "  temp  = best_lda_model[corpus[i]]\n",
        "  temp = sorted(temp, key=lambda x: x[1], reverse=True)\n",
        "  r.append(temp[0][0])\n",
        "  print(\"Articulo {} pertenece al topico {} con una probabilidad {}\".format(i, temp[0][0], temp[0][1]))"
      ],
      "execution_count": null,
      "outputs": [
        {
          "output_type": "stream",
          "name": "stdout",
          "text": [
            "Articulo 0 pertenece al topico 1 con una probabilidad 0.9995818734169006\n",
            "Articulo 1 pertenece al topico 1 con una probabilidad 0.9992234110832214\n",
            "Articulo 2 pertenece al topico 1 con una probabilidad 0.9963169097900391\n",
            "Articulo 3 pertenece al topico 1 con una probabilidad 0.9987390041351318\n",
            "Articulo 4 pertenece al topico 1 con una probabilidad 0.9984705448150635\n",
            "Articulo 5 pertenece al topico 1 con una probabilidad 0.9980335831642151\n",
            "Articulo 6 pertenece al topico 1 con una probabilidad 0.999094545841217\n",
            "Articulo 7 pertenece al topico 1 con una probabilidad 0.9990639686584473\n",
            "Articulo 8 pertenece al topico 1 con una probabilidad 0.9991470575332642\n",
            "Articulo 9 pertenece al topico 1 con una probabilidad 0.9984814524650574\n",
            "Articulo 10 pertenece al topico 1 con una probabilidad 0.9990777969360352\n",
            "Articulo 11 pertenece al topico 1 con una probabilidad 0.9989154934883118\n",
            "Articulo 12 pertenece al topico 1 con una probabilidad 0.9987818598747253\n",
            "Articulo 13 pertenece al topico 0 con una probabilidad 0.998100996017456\n",
            "Articulo 14 pertenece al topico 0 con una probabilidad 0.9983946681022644\n",
            "Articulo 15 pertenece al topico 0 con una probabilidad 0.9974327683448792\n",
            "Articulo 16 pertenece al topico 1 con una probabilidad 0.8241550922393799\n",
            "Articulo 17 pertenece al topico 0 con una probabilidad 0.9973825216293335\n",
            "Articulo 18 pertenece al topico 0 con una probabilidad 0.9991419911384583\n",
            "Articulo 19 pertenece al topico 0 con una probabilidad 0.998567521572113\n",
            "Articulo 20 pertenece al topico 0 con una probabilidad 0.9980270862579346\n",
            "Articulo 21 pertenece al topico 0 con una probabilidad 0.9985610842704773\n",
            "Articulo 22 pertenece al topico 0 con una probabilidad 0.9964752793312073\n",
            "Articulo 23 pertenece al topico 0 con una probabilidad 0.9980798363685608\n",
            "Articulo 24 pertenece al topico 0 con una probabilidad 0.9976849555969238\n",
            "Articulo 25 pertenece al topico 1 con una probabilidad 0.8535037636756897\n",
            "Articulo 26 pertenece al topico 0 con una probabilidad 0.9996132850646973\n",
            "Articulo 27 pertenece al topico 0 con una probabilidad 0.9964686036109924\n",
            "Articulo 28 pertenece al topico 0 con una probabilidad 0.9973320960998535\n",
            "Articulo 29 pertenece al topico 1 con una probabilidad 0.9417945146560669\n",
            "Articulo 30 pertenece al topico 0 con una probabilidad 0.9993209838867188\n",
            "Articulo 31 pertenece al topico 0 con una probabilidad 0.9974775314331055\n",
            "Articulo 32 pertenece al topico 1 con una probabilidad 0.7228726744651794\n",
            "Articulo 33 pertenece al topico 0 con una probabilidad 0.9969557523727417\n"
          ]
        }
      ]
    },
    {
      "cell_type": "markdown",
      "metadata": {
        "id": "AWcClheMQT5x"
      },
      "source": [
        "##Predicción del tópico de un nuevo artículo"
      ]
    },
    {
      "cell_type": "code",
      "metadata": {
        "id": "5r4V_XCOlswY"
      },
      "source": [
        "new_article = \"El incendio de Pemex fue provocado por una fuga de gas.\"\n",
        "new_article = new_article.lower()\n",
        "\n",
        "new_article_clean = preprocess(new_article)\n",
        "new_article_clean_tokenized = nltk.word_tokenize(new_article_clean)"
      ],
      "execution_count": null,
      "outputs": []
    },
    {
      "cell_type": "code",
      "metadata": {
        "colab": {
          "base_uri": "https://localhost:8080/"
        },
        "id": "yku-ER9Gqfcg",
        "outputId": "d44d7bcc-83c1-461e-b72c-461afa5d8b9e"
      },
      "source": [
        "id2word_new_article = corpora.Dictionary([new_article_clean_tokenized])\n",
        "new_article_corpus = id2word.doc2bow(new_article_clean_tokenized)\n",
        "temp1 = best_lda_model[new_article_corpus]\n",
        "temp1 =  sorted(temp1, key=lambda x: x[1], reverse=True)\n",
        "print(\"La oracion nueva pertenece al topico {} con una probabilidad {}\".format(temp1[0][0], temp1[0][1]))"
      ],
      "execution_count": null,
      "outputs": [
        {
          "output_type": "stream",
          "name": "stdout",
          "text": [
            "La oracion nueva pertenece al topico 0 con una probabilidad 0.9435540437698364\n"
          ]
        }
      ]
    },
    {
      "cell_type": "markdown",
      "metadata": {
        "id": "FXS5eVJYRVij"
      },
      "source": [
        "##Resultado"
      ]
    },
    {
      "cell_type": "code",
      "metadata": {
        "id": "lRvpDuaDMTm9"
      },
      "source": [
        "df_result = pd.read_excel(\"Ejercicio_notas_periodísticas.xlsx\")\n",
        "df_result['Tópico_Id'] = r\n",
        "\n",
        "topics = best_lda_model.show_topics(formatted=True, num_topics=best_no_topics, num_words=5)\n",
        "\n",
        "df_result['Tópico_Descripción'] = \"\"\n",
        "for tp, words in topics:\n",
        "  df_result.loc[df_result.Tópico_Id == tp, \"Tópico_Descripción\"] = re.sub('[^A-Za-záéíóúñÑ]+', ' ', words)\n"
      ],
      "execution_count": null,
      "outputs": []
    },
    {
      "cell_type": "code",
      "metadata": {
        "colab": {
          "base_uri": "https://localhost:8080/",
          "height": 1000
        },
        "id": "iau5f5iCUcmj",
        "outputId": "9ecff63b-9ac3-4ac6-b5cf-67d2c4fdb241"
      },
      "source": [
        "df_result"
      ],
      "execution_count": null,
      "outputs": [
        {
          "output_type": "execute_result",
          "data": {
            "text/html": [
              "<div>\n",
              "<style scoped>\n",
              "    .dataframe tbody tr th:only-of-type {\n",
              "        vertical-align: middle;\n",
              "    }\n",
              "\n",
              "    .dataframe tbody tr th {\n",
              "        vertical-align: top;\n",
              "    }\n",
              "\n",
              "    .dataframe thead th {\n",
              "        text-align: right;\n",
              "    }\n",
              "</style>\n",
              "<table border=\"1\" class=\"dataframe\">\n",
              "  <thead>\n",
              "    <tr style=\"text-align: right;\">\n",
              "      <th></th>\n",
              "      <th>id</th>\n",
              "      <th>titulo</th>\n",
              "      <th>texto</th>\n",
              "      <th>dominio</th>\n",
              "      <th>Tópico_Id</th>\n",
              "      <th>Tópico_Descripción</th>\n",
              "    </tr>\n",
              "  </thead>\n",
              "  <tbody>\n",
              "    <tr>\n",
              "      <th>0</th>\n",
              "      <td>1</td>\n",
              "      <td>La Jornada - Sin diésel DUBA no puede renovars...</td>\n",
              "      <td>Ciudad de México. Ante la incapacidad de Petró...</td>\n",
              "      <td>jornada.com.mx</td>\n",
              "      <td>1</td>\n",
              "      <td>duba diésel pemex país industria</td>\n",
              "    </tr>\n",
              "    <tr>\n",
              "      <th>1</th>\n",
              "      <td>2</td>\n",
              "      <td>Ajustar NOM–044 demandan a la Semarnat titular...</td>\n",
              "      <td>Presidentes y directores ejecutivos de 12 orga...</td>\n",
              "      <td>automotores-rev.com</td>\n",
              "      <td>1</td>\n",
              "      <td>duba diésel pemex país industria</td>\n",
              "    </tr>\n",
              "    <tr>\n",
              "      <th>2</th>\n",
              "      <td>3</td>\n",
              "      <td>Disminuye disposición de diesel más limpio</td>\n",
              "      <td>Las principales asociaciones de transporte de ...</td>\n",
              "      <td>eluniversal.com.mx</td>\n",
              "      <td>1</td>\n",
              "      <td>duba diésel pemex país industria</td>\n",
              "    </tr>\n",
              "    <tr>\n",
              "      <th>3</th>\n",
              "      <td>4</td>\n",
              "      <td>A la baja, oferta de diésel de ultra bajo azuf...</td>\n",
              "      <td>Ante la incapacidad de Petróleos Mexicanos (P...</td>\n",
              "      <td>eleconomista.com.mx</td>\n",
              "      <td>1</td>\n",
              "      <td>duba diésel pemex país industria</td>\n",
              "    </tr>\n",
              "    <tr>\n",
              "      <th>4</th>\n",
              "      <td>5</td>\n",
              "      <td>Disminuye disponibilidad de diésel UBA en los ...</td>\n",
              "      <td>Las principales asociaciones de transporte de ...</td>\n",
              "      <td>eluniversal.com.mx</td>\n",
              "      <td>1</td>\n",
              "      <td>duba diésel pemex país industria</td>\n",
              "    </tr>\n",
              "    <tr>\n",
              "      <th>5</th>\n",
              "      <td>6</td>\n",
              "      <td>Baja disponibilidad de diésel de ultra bajo az...</td>\n",
              "      <td>De 2018 a 2021, que es el tiempo que lleva And...</td>\n",
              "      <td>elfinanciero.com.mx</td>\n",
              "      <td>1</td>\n",
              "      <td>duba diésel pemex país industria</td>\n",
              "    </tr>\n",
              "    <tr>\n",
              "      <th>6</th>\n",
              "      <td>7</td>\n",
              "      <td>La Jornada Maya . Nacional</td>\n",
              "      <td>Con el argumento que el diésel de combustión ...</td>\n",
              "      <td>lajornadamaya.mx</td>\n",
              "      <td>1</td>\n",
              "      <td>duba diésel pemex país industria</td>\n",
              "    </tr>\n",
              "    <tr>\n",
              "      <th>7</th>\n",
              "      <td>8</td>\n",
              "      <td>Sector transporte pide retrasar uso de diésel ...</td>\n",
              "      <td>14 de junio 2021 . 11:48 am Argumentando que e...</td>\n",
              "      <td>elceo.com</td>\n",
              "      <td>1</td>\n",
              "      <td>duba diésel pemex país industria</td>\n",
              "    </tr>\n",
              "    <tr>\n",
              "      <th>8</th>\n",
              "      <td>9</td>\n",
              "      <td>Alertan transportistas poca disponibilidad de ...</td>\n",
              "      <td>La disponibilidad de Diésel de Ultra bajo Azuf...</td>\n",
              "      <td>elfinanciero.com.mx</td>\n",
              "      <td>1</td>\n",
              "      <td>duba diésel pemex país industria</td>\n",
              "    </tr>\n",
              "    <tr>\n",
              "      <th>9</th>\n",
              "      <td>10</td>\n",
              "      <td>Decrece suministro de DUBA para cadena de auto...</td>\n",
              "      <td>Ante la negativa de Petróleos Mexicanos (Peme...</td>\n",
              "      <td>eleconomista.com.mx</td>\n",
              "      <td>1</td>\n",
              "      <td>duba diésel pemex país industria</td>\n",
              "    </tr>\n",
              "    <tr>\n",
              "      <th>10</th>\n",
              "      <td>11</td>\n",
              "      <td>La Jornada - Sector transporte pide retrasar n...</td>\n",
              "      <td>Ciudad de México. Con el argumento que el diés...</td>\n",
              "      <td>jornada.com.mx</td>\n",
              "      <td>1</td>\n",
              "      <td>duba diésel pemex país industria</td>\n",
              "    </tr>\n",
              "    <tr>\n",
              "      <th>11</th>\n",
              "      <td>12</td>\n",
              "      <td>Nueva fuga de gas en planta de Atasta - Tribun...</td>\n",
              "      <td>Tras el reporte de una nueva fuga de gas en ...</td>\n",
              "      <td>tribunacampeche.com</td>\n",
              "      <td>1</td>\n",
              "      <td>duba diésel pemex país industria</td>\n",
              "    </tr>\n",
              "    <tr>\n",
              "      <th>12</th>\n",
              "      <td>13</td>\n",
              "      <td>Que Pemex invierta en mantenimiento - Tribuna ...</td>\n",
              "      <td>El incidente registrado en el ducto del Cent...</td>\n",
              "      <td>tribunacampeche.com</td>\n",
              "      <td>1</td>\n",
              "      <td>duba diésel pemex país industria</td>\n",
              "    </tr>\n",
              "    <tr>\n",
              "      <th>13</th>\n",
              "      <td>14</td>\n",
              "      <td>Tiene Pemex 180 días para informar sobre incendio</td>\n",
              "      <td>Ulises Juárez / Energía a Debate   Petróleo...</td>\n",
              "      <td>energiaadebate.com</td>\n",
              "      <td>0</td>\n",
              "      <td>pemex incendio gas méxico fuga</td>\n",
              "    </tr>\n",
              "    <tr>\n",
              "      <th>14</th>\n",
              "      <td>15</td>\n",
              "      <td>Asea da 180 días a Pemex para que entregue inf...</td>\n",
              "      <td>CIUDAD DEL CARMEN, Cam. (apro).- La Agencia Na...</td>\n",
              "      <td>proceso.com.mx</td>\n",
              "      <td>0</td>\n",
              "      <td>pemex incendio gas méxico fuga</td>\n",
              "    </tr>\n",
              "    <tr>\n",
              "      <th>15</th>\n",
              "      <td>16</td>\n",
              "      <td>Incendio en ducto de Pemex: Dan seis meses a l...</td>\n",
              "      <td>La Agencia Nacional de Seguridad Industrial y...</td>\n",
              "      <td>informador.mx</td>\n",
              "      <td>0</td>\n",
              "      <td>pemex incendio gas méxico fuga</td>\n",
              "    </tr>\n",
              "    <tr>\n",
              "      <th>16</th>\n",
              "      <td>17</td>\n",
              "      <td>Tras incendio en ducto, Pemex gana nuevo negoc...</td>\n",
              "      <td>Petróleos Mexicanos (Pemex) se vio envuelta en...</td>\n",
              "      <td>lasillarota.com</td>\n",
              "      <td>1</td>\n",
              "      <td>duba diésel pemex país industria</td>\n",
              "    </tr>\n",
              "    <tr>\n",
              "      <th>17</th>\n",
              "      <td>18</td>\n",
              "      <td>Pemex tiene seis meses para entregar informe s...</td>\n",
              "      <td>La Agencia de Seguridad, Energía y Ambiente (A...</td>\n",
              "      <td>elsoldemexico.com.mx</td>\n",
              "      <td>0</td>\n",
              "      <td>pemex incendio gas méxico fuga</td>\n",
              "    </tr>\n",
              "    <tr>\n",
              "      <th>18</th>\n",
              "      <td>19</td>\n",
              "      <td>Explosión en Golfo de México desata críticas p...</td>\n",
              "      <td>Las imágenes del Golfo de México en llamas por...</td>\n",
              "      <td>nssoaxaca.com</td>\n",
              "      <td>0</td>\n",
              "      <td>pemex incendio gas méxico fuga</td>\n",
              "    </tr>\n",
              "    <tr>\n",
              "      <th>19</th>\n",
              "      <td>20</td>\n",
              "      <td>ONG´s exigen castigar incendio en el Golfo de ...</td>\n",
              "      <td>El incendio en el mar provocado por una fuga e...</td>\n",
              "      <td>pueblaonline.com.mx</td>\n",
              "      <td>0</td>\n",
              "      <td>pemex incendio gas méxico fuga</td>\n",
              "    </tr>\n",
              "    <tr>\n",
              "      <th>20</th>\n",
              "      <td>21</td>\n",
              "      <td>Pemex asegura que el incendio en el Golfo de M...</td>\n",
              "      <td>La estatal Petróleos Mexicanos (PEMEX) aseg...</td>\n",
              "      <td>imagendelgolfo.mx</td>\n",
              "      <td>0</td>\n",
              "      <td>pemex incendio gas méxico fuga</td>\n",
              "    </tr>\n",
              "    <tr>\n",
              "      <th>21</th>\n",
              "      <td>22</td>\n",
              "      <td>Pemex atribuye incendio en plataforma a tormen...</td>\n",
              "      <td>Una plataforma de Pemex en Campeche se incendi...</td>\n",
              "      <td>abcnoticias.mx</td>\n",
              "      <td>0</td>\n",
              "      <td>pemex incendio gas méxico fuga</td>\n",
              "    </tr>\n",
              "    <tr>\n",
              "      <th>22</th>\n",
              "      <td>23</td>\n",
              "      <td>Tormenta eléctrica y fuga de gas, causas del i...</td>\n",
              "      <td>CIUDAD DE MÉXICO (El Universal).— Petróleo...</td>\n",
              "      <td>tribunacampeche.com</td>\n",
              "      <td>0</td>\n",
              "      <td>pemex incendio gas méxico fuga</td>\n",
              "    </tr>\n",
              "    <tr>\n",
              "      <th>23</th>\n",
              "      <td>24</td>\n",
              "      <td>Incendio en ducto submarino de Pemex no fue in...</td>\n",
              "      <td>06 de Jul de 2021 \"Fue un accidente. Descartam...</td>\n",
              "      <td>laestrella.com.pa</td>\n",
              "      <td>0</td>\n",
              "      <td>pemex incendio gas méxico fuga</td>\n",
              "    </tr>\n",
              "    <tr>\n",
              "      <th>24</th>\n",
              "      <td>25</td>\n",
              "      <td>Pemex culpa a tormenta eléctrica por incendio ...</td>\n",
              "      <td>Petróleos Mexicanos (Pemex) responsabilizó a u...</td>\n",
              "      <td>forbes.com.mx</td>\n",
              "      <td>0</td>\n",
              "      <td>pemex incendio gas méxico fuga</td>\n",
              "    </tr>\n",
              "    <tr>\n",
              "      <th>25</th>\n",
              "      <td>26</td>\n",
              "      <td>Semarnat revisará daños ecológicos tras incend...</td>\n",
              "      <td>En una reunión de trabajo que sostuvo con los...</td>\n",
              "      <td>elsiglodetorreon.com.mx</td>\n",
              "      <td>1</td>\n",
              "      <td>duba diésel pemex país industria</td>\n",
              "    </tr>\n",
              "    <tr>\n",
              "      <th>26</th>\n",
              "      <td>27</td>\n",
              "      <td>Ecocodio, incendio de Pemex en Golfo de México...</td>\n",
              "      <td>El incendio provocado por una fuga de gas en u...</td>\n",
              "      <td>lasillarota.com</td>\n",
              "      <td>0</td>\n",
              "      <td>pemex incendio gas méxico fuga</td>\n",
              "    </tr>\n",
              "    <tr>\n",
              "      <th>27</th>\n",
              "      <td>28</td>\n",
              "      <td>Tormentas eléctricas y presencia de gas en sup...</td>\n",
              "      <td>CIUDAD DE MÉXICO.- PEMEX lanzó un comunicado a...</td>\n",
              "      <td>elimparcial.com</td>\n",
              "      <td>0</td>\n",
              "      <td>pemex incendio gas méxico fuga</td>\n",
              "    </tr>\n",
              "    <tr>\n",
              "      <th>28</th>\n",
              "      <td>29</td>\n",
              "      <td>Se evitó daño ambiental por ‘fuego en el mar’ ...</td>\n",
              "      <td>Petróleos Mexicanos (Pemex) aseguró este lun...</td>\n",
              "      <td>elheraldoslp.com.mx</td>\n",
              "      <td>0</td>\n",
              "      <td>pemex incendio gas méxico fuga</td>\n",
              "    </tr>\n",
              "    <tr>\n",
              "      <th>29</th>\n",
              "      <td>30</td>\n",
              "      <td>El agujero y el popote . El Heraldo de México</td>\n",
              "      <td>¡Cómo olvidar el dicho de AMLO! “¿De cuándo ac...</td>\n",
              "      <td>heraldodemexico.com.mx</td>\n",
              "      <td>1</td>\n",
              "      <td>duba diésel pemex país industria</td>\n",
              "    </tr>\n",
              "    <tr>\n",
              "      <th>30</th>\n",
              "      <td>31</td>\n",
              "      <td>Sociedad civil exige cese al ecocidio petrolero</td>\n",
              "      <td>Ciudad de México, 5 de Julio 2021.- El ince...</td>\n",
              "      <td>energiaadebate.com</td>\n",
              "      <td>0</td>\n",
              "      <td>pemex incendio gas méxico fuga</td>\n",
              "    </tr>\n",
              "    <tr>\n",
              "      <th>31</th>\n",
              "      <td>32</td>\n",
              "      <td>Pemex asegura que no hubo daño ambiental por i...</td>\n",
              "      <td>CIUDAD DEL CARMEN, Cam., (apro).- Petróleos Me...</td>\n",
              "      <td>proceso.com.mx</td>\n",
              "      <td>0</td>\n",
              "      <td>pemex incendio gas méxico fuga</td>\n",
              "    </tr>\n",
              "    <tr>\n",
              "      <th>32</th>\n",
              "      <td>33</td>\n",
              "      <td>Pemex. Alistan inspección tras aparatoso incen...</td>\n",
              "      <td>La secretaria del Medio Ambiente y Recursos Na...</td>\n",
              "      <td>eluniversal.com.mx</td>\n",
              "      <td>1</td>\n",
              "      <td>duba diésel pemex país industria</td>\n",
              "    </tr>\n",
              "    <tr>\n",
              "      <th>33</th>\n",
              "      <td>34</td>\n",
              "      <td>Incendio en mar, por fuga y tormenta; derrame,...</td>\n",
              "      <td>A tres días del incendio en uno de sus ducto...</td>\n",
              "      <td>angulo7.com.mx</td>\n",
              "      <td>0</td>\n",
              "      <td>pemex incendio gas méxico fuga</td>\n",
              "    </tr>\n",
              "  </tbody>\n",
              "</table>\n",
              "</div>"
            ],
            "text/plain": [
              "    id  ...                  Tópico_Descripción\n",
              "0    1  ...   duba diésel pemex país industria \n",
              "1    2  ...   duba diésel pemex país industria \n",
              "2    3  ...   duba diésel pemex país industria \n",
              "3    4  ...   duba diésel pemex país industria \n",
              "4    5  ...   duba diésel pemex país industria \n",
              "5    6  ...   duba diésel pemex país industria \n",
              "6    7  ...   duba diésel pemex país industria \n",
              "7    8  ...   duba diésel pemex país industria \n",
              "8    9  ...   duba diésel pemex país industria \n",
              "9   10  ...   duba diésel pemex país industria \n",
              "10  11  ...   duba diésel pemex país industria \n",
              "11  12  ...   duba diésel pemex país industria \n",
              "12  13  ...   duba diésel pemex país industria \n",
              "13  14  ...     pemex incendio gas méxico fuga \n",
              "14  15  ...     pemex incendio gas méxico fuga \n",
              "15  16  ...     pemex incendio gas méxico fuga \n",
              "16  17  ...   duba diésel pemex país industria \n",
              "17  18  ...     pemex incendio gas méxico fuga \n",
              "18  19  ...     pemex incendio gas méxico fuga \n",
              "19  20  ...     pemex incendio gas méxico fuga \n",
              "20  21  ...     pemex incendio gas méxico fuga \n",
              "21  22  ...     pemex incendio gas méxico fuga \n",
              "22  23  ...     pemex incendio gas méxico fuga \n",
              "23  24  ...     pemex incendio gas méxico fuga \n",
              "24  25  ...     pemex incendio gas méxico fuga \n",
              "25  26  ...   duba diésel pemex país industria \n",
              "26  27  ...     pemex incendio gas méxico fuga \n",
              "27  28  ...     pemex incendio gas méxico fuga \n",
              "28  29  ...     pemex incendio gas méxico fuga \n",
              "29  30  ...   duba diésel pemex país industria \n",
              "30  31  ...     pemex incendio gas méxico fuga \n",
              "31  32  ...     pemex incendio gas méxico fuga \n",
              "32  33  ...   duba diésel pemex país industria \n",
              "33  34  ...     pemex incendio gas méxico fuga \n",
              "\n",
              "[34 rows x 6 columns]"
            ]
          },
          "metadata": {},
          "execution_count": 20
        }
      ]
    }
  ]
}